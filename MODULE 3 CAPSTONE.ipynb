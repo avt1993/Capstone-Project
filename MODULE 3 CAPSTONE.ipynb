{
 "cells": [
  {
   "cell_type": "code",
   "execution_count": 2,
   "id": "43c95536-10cd-4ac9-8b5b-d949d3a65034",
   "metadata": {},
   "outputs": [],
   "source": [
    "library(RODBC)"
   ]
  },
  {
   "cell_type": "code",
   "execution_count": 3,
   "id": "85221b1e-54bf-4546-baa9-0428cd4a8088",
   "metadata": {},
   "outputs": [
    {
     "data": {
      "text/plain": [
       "RODBC Connection 1\n",
       "Details:\n",
       "  case=nochange\n",
       "  DRIVER={IBM DB2 ODBC DRIVER}\n",
       "  UID=zmf98041\n",
       "  PWD=******\n",
       "  DATABASE=bludb\n",
       "  HOSTNAME=b0aebb68-94fa-46ec-a1fc-1c999edb6187.c3n41cmd0nqnrk39u98g.databases.appdomain.cloud\n",
       "  PORT=31249\n",
       "  PROTOCOL=TCPIP\n",
       "  SECURITY=SSL"
      ]
     },
     "metadata": {},
     "output_type": "display_data"
    }
   ],
   "source": [
    "# Establish database connection\n",
    "\n",
    "dsn_driver <- \"{IBM DB2 ODBC Driver}\"\n",
    "dsn_database <- \"bludb\"            \n",
    "dsn_hostname <- \"b0aebb68-94fa-46ec-a1fc-1c999edb6187.c3n41cmd0nqnrk39u98g.databases.appdomain.cloud\" \n",
    "dsn_port <- \"31249\"   \n",
    "dsn_protocol <- \"TCPIP\"            \n",
    "dsn_uid <- \"zmf98041\"       \n",
    "dsn_pwd <- \"ysoZ11Qn2kaa9kRS\"      \n",
    "dsn_security <- \"ssl\"\n",
    "\n",
    "conn_path <- paste(\"DRIVER=\",dsn_driver,\n",
    "                  \";DATABASE=\",dsn_database,\n",
    "                  \";HOSTNAME=\",dsn_hostname,\n",
    "                  \";PORT=\",dsn_port,\n",
    "                  \";PROTOCOL=\",dsn_protocol,\n",
    "                  \";UID=\",dsn_uid,\n",
    "                  \";PWD=\",dsn_pwd,\n",
    "                  \";SECURITY=\",dsn_security,        \n",
    "                    sep=\"\")\n",
    "\n",
    "conn <- odbcDriverConnect(conn_path)\n",
    "conn"
   ]
  },
  {
   "cell_type": "code",
   "execution_count": 4,
   "id": "71092826-079d-4764-8218-2cf1c4c140c6",
   "metadata": {},
   "outputs": [
    {
     "data": {
      "text/html": [
       "<strong>DBMS_Name:</strong> 'DB2/LINUXX8664'"
      ],
      "text/latex": [
       "\\textbf{DBMS\\textbackslash{}\\_Name:} 'DB2/LINUXX8664'"
      ],
      "text/markdown": [
       "**DBMS_Name:** 'DB2/LINUXX8664'"
      ],
      "text/plain": [
       "       DBMS_Name \n",
       "\"DB2/LINUXX8664\" "
      ]
     },
     "metadata": {},
     "output_type": "display_data"
    },
    {
     "data": {
      "text/html": [
       "<strong>DBMS_Ver:</strong> '11.05.0800'"
      ],
      "text/latex": [
       "\\textbf{DBMS\\textbackslash{}\\_Ver:} '11.05.0800'"
      ],
      "text/markdown": [
       "**DBMS_Ver:** '11.05.0800'"
      ],
      "text/plain": [
       "    DBMS_Ver \n",
       "\"11.05.0800\" "
      ]
     },
     "metadata": {},
     "output_type": "display_data"
    },
    {
     "data": {
      "text/html": [
       "<strong>Driver_ODBC_Ver:</strong> '03.51'"
      ],
      "text/latex": [
       "\\textbf{Driver\\textbackslash{}\\_ODBC\\textbackslash{}\\_Ver:} '03.51'"
      ],
      "text/markdown": [
       "**Driver_ODBC_Ver:** '03.51'"
      ],
      "text/plain": [
       "Driver_ODBC_Ver \n",
       "        \"03.51\" "
      ]
     },
     "metadata": {},
     "output_type": "display_data"
    }
   ],
   "source": [
    "sql.info <- sqlTypeInfo(conn)\n",
    "conn.info <- odbcGetInfo(conn)\n",
    "conn.info[\"DBMS_Name\"]\n",
    "conn.info[\"DBMS_Ver\"]\n",
    "conn.info[\"Driver_ODBC_Ver\"]"
   ]
  },
  {
   "cell_type": "code",
   "execution_count": 5,
   "id": "011b1bcc-290b-4e62-8f63-62e2398bc028",
   "metadata": {},
   "outputs": [
    {
     "data": {
      "text/html": [
       "<table>\n",
       "<caption>A data.frame: 1 × 1</caption>\n",
       "<thead>\n",
       "\t<tr><th></th><th scope=col>1</th></tr>\n",
       "\t<tr><th></th><th scope=col>&lt;int&gt;</th></tr>\n",
       "</thead>\n",
       "<tbody>\n",
       "\t<tr><th scope=row>1</th><td>8465</td></tr>\n",
       "</tbody>\n",
       "</table>\n"
      ],
      "text/latex": [
       "A data.frame: 1 × 1\n",
       "\\begin{tabular}{r|l}\n",
       "  & 1\\\\\n",
       "  & <int>\\\\\n",
       "\\hline\n",
       "\t1 & 8465\\\\\n",
       "\\end{tabular}\n"
      ],
      "text/markdown": [
       "\n",
       "A data.frame: 1 × 1\n",
       "\n",
       "| <!--/--> | 1 &lt;int&gt; |\n",
       "|---|---|\n",
       "| 1 | 8465 |\n",
       "\n"
      ],
      "text/plain": [
       "  1   \n",
       "1 8465"
      ]
     },
     "metadata": {},
     "output_type": "display_data"
    }
   ],
   "source": [
    "#1 Determine how many records are in the seoul_bike_sharing dataset.\n",
    "sqlQuery(conn, paste(\"SELECT COUNT(*) FROM SEOUL_BIKE_SHARING;\"))"
   ]
  },
  {
   "cell_type": "code",
   "execution_count": 6,
   "id": "82f6be09-b216-4466-8e8f-abcd0579b73e",
   "metadata": {},
   "outputs": [
    {
     "data": {
      "text/html": [
       "<table>\n",
       "<caption>A data.frame: 1 × 1</caption>\n",
       "<thead>\n",
       "\t<tr><th></th><th scope=col>1</th></tr>\n",
       "\t<tr><th></th><th scope=col>&lt;int&gt;</th></tr>\n",
       "</thead>\n",
       "<tbody>\n",
       "\t<tr><th scope=row>1</th><td>8465</td></tr>\n",
       "</tbody>\n",
       "</table>\n"
      ],
      "text/latex": [
       "A data.frame: 1 × 1\n",
       "\\begin{tabular}{r|l}\n",
       "  & 1\\\\\n",
       "  & <int>\\\\\n",
       "\\hline\n",
       "\t1 & 8465\\\\\n",
       "\\end{tabular}\n"
      ],
      "text/markdown": [
       "\n",
       "A data.frame: 1 × 1\n",
       "\n",
       "| <!--/--> | 1 &lt;int&gt; |\n",
       "|---|---|\n",
       "| 1 | 8465 |\n",
       "\n"
      ],
      "text/plain": [
       "  1   \n",
       "1 8465"
      ]
     },
     "metadata": {},
     "output_type": "display_data"
    }
   ],
   "source": [
    "#2 Determine how many hours had non-zero rented bike count.\n",
    "sqlQuery(conn, paste(\"SELECT COUNT(RENTED_BIKE_COUNT) FROM SEOUL_BIKE_SHARING WHERE RENTED_BIKE_COUNT != 0;\"))"
   ]
  },
  {
   "cell_type": "code",
   "execution_count": 7,
   "id": "7525b6f0-d59b-439e-b5b5-d749ad67a1a9",
   "metadata": {},
   "outputs": [
    {
     "data": {
      "text/html": [
       "<table>\n",
       "<caption>A data.frame: 1 × 12</caption>\n",
       "<thead>\n",
       "\t<tr><th></th><th scope=col>CITY</th><th scope=col>WEATHER</th><th scope=col>VISIBILITY</th><th scope=col>TEMP</th><th scope=col>TEMP_MIN</th><th scope=col>TEMP_MAX</th><th scope=col>PRESSURE</th><th scope=col>HUMIDITY</th><th scope=col>WIND_SPEED</th><th scope=col>WIND_DEG</th><th scope=col>SEASON</th><th scope=col>FORECAST_DATETIME</th></tr>\n",
       "\t<tr><th></th><th scope=col>&lt;fct&gt;</th><th scope=col>&lt;fct&gt;</th><th scope=col>&lt;int&gt;</th><th scope=col>&lt;dbl&gt;</th><th scope=col>&lt;dbl&gt;</th><th scope=col>&lt;dbl&gt;</th><th scope=col>&lt;int&gt;</th><th scope=col>&lt;int&gt;</th><th scope=col>&lt;dbl&gt;</th><th scope=col>&lt;int&gt;</th><th scope=col>&lt;fct&gt;</th><th scope=col>&lt;dttm&gt;</th></tr>\n",
       "</thead>\n",
       "<tbody>\n",
       "\t<tr><th scope=row>1</th><td>Seoul</td><td>Clear</td><td>10000</td><td>12.32</td><td>10.91</td><td>12.32</td><td>1015</td><td>50</td><td>2.18</td><td>248</td><td>Spring</td><td>2021-04-16 12:00:00</td></tr>\n",
       "</tbody>\n",
       "</table>\n"
      ],
      "text/latex": [
       "A data.frame: 1 × 12\n",
       "\\begin{tabular}{r|llllllllllll}\n",
       "  & CITY & WEATHER & VISIBILITY & TEMP & TEMP\\_MIN & TEMP\\_MAX & PRESSURE & HUMIDITY & WIND\\_SPEED & WIND\\_DEG & SEASON & FORECAST\\_DATETIME\\\\\n",
       "  & <fct> & <fct> & <int> & <dbl> & <dbl> & <dbl> & <int> & <int> & <dbl> & <int> & <fct> & <dttm>\\\\\n",
       "\\hline\n",
       "\t1 & Seoul & Clear & 10000 & 12.32 & 10.91 & 12.32 & 1015 & 50 & 2.18 & 248 & Spring & 2021-04-16 12:00:00\\\\\n",
       "\\end{tabular}\n"
      ],
      "text/markdown": [
       "\n",
       "A data.frame: 1 × 12\n",
       "\n",
       "| <!--/--> | CITY &lt;fct&gt; | WEATHER &lt;fct&gt; | VISIBILITY &lt;int&gt; | TEMP &lt;dbl&gt; | TEMP_MIN &lt;dbl&gt; | TEMP_MAX &lt;dbl&gt; | PRESSURE &lt;int&gt; | HUMIDITY &lt;int&gt; | WIND_SPEED &lt;dbl&gt; | WIND_DEG &lt;int&gt; | SEASON &lt;fct&gt; | FORECAST_DATETIME &lt;dttm&gt; |\n",
       "|---|---|---|---|---|---|---|---|---|---|---|---|---|\n",
       "| 1 | Seoul | Clear | 10000 | 12.32 | 10.91 | 12.32 | 1015 | 50 | 2.18 | 248 | Spring | 2021-04-16 12:00:00 |\n",
       "\n"
      ],
      "text/plain": [
       "  CITY  WEATHER VISIBILITY TEMP  TEMP_MIN TEMP_MAX PRESSURE HUMIDITY WIND_SPEED\n",
       "1 Seoul Clear   10000      12.32 10.91    12.32    1015     50       2.18      \n",
       "  WIND_DEG SEASON FORECAST_DATETIME  \n",
       "1 248      Spring 2021-04-16 12:00:00"
      ]
     },
     "metadata": {},
     "output_type": "display_data"
    }
   ],
   "source": [
    "#3 Query the weather forecast for Seoul over the next 3 hours.\n",
    "sqlQuery(conn, paste(\"SELECT * FROM CITIES_WEATHER_FORECAST WHERE CITY = 'Seoul' LIMIT 1;\"))"
   ]
  },
  {
   "cell_type": "code",
   "execution_count": 8,
   "id": "08768df1-1f06-4485-91dd-af3859fc2a94",
   "metadata": {},
   "outputs": [
    {
     "data": {
      "text/html": [
       "<table>\n",
       "<caption>A data.frame: 4 × 1</caption>\n",
       "<thead>\n",
       "\t<tr><th></th><th scope=col>SEASONS</th></tr>\n",
       "\t<tr><th></th><th scope=col>&lt;fct&gt;</th></tr>\n",
       "</thead>\n",
       "<tbody>\n",
       "\t<tr><th scope=row>1</th><td>Autumn</td></tr>\n",
       "\t<tr><th scope=row>2</th><td>Spring</td></tr>\n",
       "\t<tr><th scope=row>3</th><td>Summer</td></tr>\n",
       "\t<tr><th scope=row>4</th><td>Winter</td></tr>\n",
       "</tbody>\n",
       "</table>\n"
      ],
      "text/latex": [
       "A data.frame: 4 × 1\n",
       "\\begin{tabular}{r|l}\n",
       "  & SEASONS\\\\\n",
       "  & <fct>\\\\\n",
       "\\hline\n",
       "\t1 & Autumn\\\\\n",
       "\t2 & Spring\\\\\n",
       "\t3 & Summer\\\\\n",
       "\t4 & Winter\\\\\n",
       "\\end{tabular}\n"
      ],
      "text/markdown": [
       "\n",
       "A data.frame: 4 × 1\n",
       "\n",
       "| <!--/--> | SEASONS &lt;fct&gt; |\n",
       "|---|---|\n",
       "| 1 | Autumn |\n",
       "| 2 | Spring |\n",
       "| 3 | Summer |\n",
       "| 4 | Winter |\n",
       "\n"
      ],
      "text/plain": [
       "  SEASONS\n",
       "1 Autumn \n",
       "2 Spring \n",
       "3 Summer \n",
       "4 Winter "
      ]
     },
     "metadata": {},
     "output_type": "display_data"
    }
   ],
   "source": [
    "#4 Find which seasons are included in the seoul bike sharing dataset.\n",
    "sqlQuery(conn, paste(\"SELECT DISTINCT SEASONS FROM SEOUL_BIKE_SHARING\"))"
   ]
  },
  {
   "cell_type": "code",
   "execution_count": 9,
   "id": "9152058b-1187-4c28-92f5-34b78583691d",
   "metadata": {},
   "outputs": [
    {
     "data": {
      "text/html": [
       "<table>\n",
       "<caption>A data.frame: 1 × 14</caption>\n",
       "<thead>\n",
       "\t<tr><th></th><th scope=col>DATE</th><th scope=col>RENTED_BIKE_COUNT</th><th scope=col>HOUR</th><th scope=col>TEMPERATURE</th><th scope=col>HUMIDITY</th><th scope=col>WIND_SPEED</th><th scope=col>VISIBILITY</th><th scope=col>DEW_POINT_TEMPERATURE</th><th scope=col>SOLAR_RADIATION</th><th scope=col>RAINFALL</th><th scope=col>SNOWFALL</th><th scope=col>SEASONS</th><th scope=col>HOLIDAY</th><th scope=col>FUNCTIONING_DAY</th></tr>\n",
       "\t<tr><th></th><th scope=col>&lt;fct&gt;</th><th scope=col>&lt;int&gt;</th><th scope=col>&lt;int&gt;</th><th scope=col>&lt;dbl&gt;</th><th scope=col>&lt;int&gt;</th><th scope=col>&lt;dbl&gt;</th><th scope=col>&lt;int&gt;</th><th scope=col>&lt;dbl&gt;</th><th scope=col>&lt;dbl&gt;</th><th scope=col>&lt;dbl&gt;</th><th scope=col>&lt;dbl&gt;</th><th scope=col>&lt;fct&gt;</th><th scope=col>&lt;fct&gt;</th><th scope=col>&lt;fct&gt;</th></tr>\n",
       "</thead>\n",
       "<tbody>\n",
       "\t<tr><th scope=row>1</th><td>01/12/2017</td><td>254</td><td>0</td><td>-5.2</td><td>37</td><td>2.2</td><td>2000</td><td>-17.6</td><td>0</td><td>0</td><td>0</td><td>Winter</td><td>No Holiday</td><td>Yes</td></tr>\n",
       "</tbody>\n",
       "</table>\n"
      ],
      "text/latex": [
       "A data.frame: 1 × 14\n",
       "\\begin{tabular}{r|llllllllllllll}\n",
       "  & DATE & RENTED\\_BIKE\\_COUNT & HOUR & TEMPERATURE & HUMIDITY & WIND\\_SPEED & VISIBILITY & DEW\\_POINT\\_TEMPERATURE & SOLAR\\_RADIATION & RAINFALL & SNOWFALL & SEASONS & HOLIDAY & FUNCTIONING\\_DAY\\\\\n",
       "  & <fct> & <int> & <int> & <dbl> & <int> & <dbl> & <int> & <dbl> & <dbl> & <dbl> & <dbl> & <fct> & <fct> & <fct>\\\\\n",
       "\\hline\n",
       "\t1 & 01/12/2017 & 254 & 0 & -5.2 & 37 & 2.2 & 2000 & -17.6 & 0 & 0 & 0 & Winter & No Holiday & Yes\\\\\n",
       "\\end{tabular}\n"
      ],
      "text/markdown": [
       "\n",
       "A data.frame: 1 × 14\n",
       "\n",
       "| <!--/--> | DATE &lt;fct&gt; | RENTED_BIKE_COUNT &lt;int&gt; | HOUR &lt;int&gt; | TEMPERATURE &lt;dbl&gt; | HUMIDITY &lt;int&gt; | WIND_SPEED &lt;dbl&gt; | VISIBILITY &lt;int&gt; | DEW_POINT_TEMPERATURE &lt;dbl&gt; | SOLAR_RADIATION &lt;dbl&gt; | RAINFALL &lt;dbl&gt; | SNOWFALL &lt;dbl&gt; | SEASONS &lt;fct&gt; | HOLIDAY &lt;fct&gt; | FUNCTIONING_DAY &lt;fct&gt; |\n",
       "|---|---|---|---|---|---|---|---|---|---|---|---|---|---|---|\n",
       "| 1 | 01/12/2017 | 254 | 0 | -5.2 | 37 | 2.2 | 2000 | -17.6 | 0 | 0 | 0 | Winter | No Holiday | Yes |\n",
       "\n"
      ],
      "text/plain": [
       "  DATE       RENTED_BIKE_COUNT HOUR TEMPERATURE HUMIDITY WIND_SPEED VISIBILITY\n",
       "1 01/12/2017 254               0    -5.2        37       2.2        2000      \n",
       "  DEW_POINT_TEMPERATURE SOLAR_RADIATION RAINFALL SNOWFALL SEASONS HOLIDAY   \n",
       "1 -17.6                 0               0        0        Winter  No Holiday\n",
       "  FUNCTIONING_DAY\n",
       "1 Yes            "
      ]
     },
     "metadata": {},
     "output_type": "display_data"
    },
    {
     "data": {
      "text/html": [
       "<style>\n",
       ".list-inline {list-style: none; margin:0; padding: 0}\n",
       ".list-inline>li {display: inline-block}\n",
       ".list-inline>li:not(:last-child)::after {content: \"\\00b7\"; padding: 0 .5ex}\n",
       "</style>\n",
       "<ol class=list-inline><li><span style=white-space:pre-wrap>'42884 -440 [IBM][CLI Driver][DB2/LINUXX8664] SQL0440N  No authorized routine named \"LAST\" of type \"FUNCTION\" having compatible arguments was found.  SQLSTATE=42884\\n'</span></li><li>'[RODBC] ERROR: Could not SQLExecDirect \\'SELECT LAST() FROM SEOUL_BIKE_SHARING\\''</li></ol>\n"
      ],
      "text/latex": [
       "\\begin{enumerate*}\n",
       "\\item '42884 -440 {[}IBM{]}{[}CLI Driver{]}{[}DB2/LINUXX8664{]} SQL0440N  No authorized routine named \"LAST\" of type \"FUNCTION\" having compatible arguments was found.  SQLSTATE=42884\\textbackslash{}n'\n",
       "\\item '{[}RODBC{]} ERROR: Could not SQLExecDirect \\textbackslash{}'SELECT LAST() FROM SEOUL\\_BIKE\\_SHARING\\textbackslash{}''\n",
       "\\end{enumerate*}\n"
      ],
      "text/markdown": [
       "1. <span style=white-space:pre-wrap>'42884 -440 [IBM][CLI Driver][DB2/LINUXX8664] SQL0440N  No authorized routine named \"LAST\" of type \"FUNCTION\" having compatible arguments was found.  SQLSTATE=42884\\n'</span>\n",
       "2. '[RODBC] ERROR: Could not SQLExecDirect \\'SELECT LAST() FROM SEOUL_BIKE_SHARING\\''\n",
       "\n",
       "\n"
      ],
      "text/plain": [
       "[1] \"42884 -440 [IBM][CLI Driver][DB2/LINUXX8664] SQL0440N  No authorized routine named \\\"LAST\\\" of type \\\"FUNCTION\\\" having compatible arguments was found.  SQLSTATE=42884\\n\"\n",
       "[2] \"[RODBC] ERROR: Could not SQLExecDirect 'SELECT LAST() FROM SEOUL_BIKE_SHARING'\"                                                                                           "
      ]
     },
     "metadata": {},
     "output_type": "display_data"
    }
   ],
   "source": [
    "#5 Find the first and last dates in the Seoul Bike Sharing dataset. NOT DONE YET!!\n",
    "sqlQuery(conn, paste(\"SELECT * FROM SEOUL_BIKE_SHARING LIMIT 1\"))\n",
    "# sqlQuery(conn, paste(\"SELECT LAST() FROM SEOUL_BIKE_SHARING\"))\n"
   ]
  },
  {
   "cell_type": "code",
   "execution_count": 10,
   "id": "ffbfb911-7752-458e-a6bb-56ac6521b706",
   "metadata": {},
   "outputs": [
    {
     "data": {
      "text/html": [
       "<table>\n",
       "<caption>A data.frame: 1 × 3</caption>\n",
       "<thead>\n",
       "\t<tr><th></th><th scope=col>DATE</th><th scope=col>HOUR</th><th scope=col>RENTED_BIKE_COUNT</th></tr>\n",
       "\t<tr><th></th><th scope=col>&lt;fct&gt;</th><th scope=col>&lt;int&gt;</th><th scope=col>&lt;int&gt;</th></tr>\n",
       "</thead>\n",
       "<tbody>\n",
       "\t<tr><th scope=row>1</th><td>19/06/2018</td><td>18</td><td>3556</td></tr>\n",
       "</tbody>\n",
       "</table>\n"
      ],
      "text/latex": [
       "A data.frame: 1 × 3\n",
       "\\begin{tabular}{r|lll}\n",
       "  & DATE & HOUR & RENTED\\_BIKE\\_COUNT\\\\\n",
       "  & <fct> & <int> & <int>\\\\\n",
       "\\hline\n",
       "\t1 & 19/06/2018 & 18 & 3556\\\\\n",
       "\\end{tabular}\n"
      ],
      "text/markdown": [
       "\n",
       "A data.frame: 1 × 3\n",
       "\n",
       "| <!--/--> | DATE &lt;fct&gt; | HOUR &lt;int&gt; | RENTED_BIKE_COUNT &lt;int&gt; |\n",
       "|---|---|---|---|\n",
       "| 1 | 19/06/2018 | 18 | 3556 |\n",
       "\n"
      ],
      "text/plain": [
       "  DATE       HOUR RENTED_BIKE_COUNT\n",
       "1 19/06/2018 18   3556             "
      ]
     },
     "metadata": {},
     "output_type": "display_data"
    }
   ],
   "source": [
    "#6 Determine which date and hour had the most bike rentals.\n",
    "sqlQuery(conn, paste(\"SELECT DATE, HOUR, RENTED_BIKE_COUNT FROM SEOUL_BIKE_SHARING WHERE RENTED_BIKE_COUNT = ( SELECT MAX(RENTED_BIKE_COUNT) FROM SEOUL_BIKE_SHARING );\"))"
   ]
  },
  {
   "cell_type": "code",
   "execution_count": 11,
   "id": "2aa121e5-02d7-45ff-b589-e7b6cc65bb90",
   "metadata": {},
   "outputs": [
    {
     "data": {
      "text/html": [
       "<style>\n",
       ".list-inline {list-style: none; margin:0; padding: 0}\n",
       ".list-inline>li {display: inline-block}\n",
       ".list-inline>li:not(:last-child)::after {content: \"\\00b7\"; padding: 0 .5ex}\n",
       "</style>\n",
       "<ol class=list-inline><li><span style=white-space:pre-wrap>'42803 -119 [IBM][CLI Driver][DB2/LINUXX8664] SQL0119N  An expression starting with \"HOUR\" specified in a SELECT clause, HAVING clause, or ORDER BY clause is not specified in the GROUP BY clause or it is in a SELECT clause, HAVING clause, or ORDER BY clause with a column function and no GROUP BY clause is specified.  SQLSTATE=42803\\n'</span></li><li>'[RODBC] ERROR: Could not SQLExecDirect \\'SELECT SEASONS, HOUR, AVG(RENTED_BIKE_COUNT) AS RENTED_BIKE_COUNT_AVERAGE, AVG(TEMPERATURE) AS AVERAGE_TEMPERATURE FROM SEOUL_BIKE_SHARING GROUP BY SEASONS\\''</li></ol>\n"
      ],
      "text/latex": [
       "\\begin{enumerate*}\n",
       "\\item '42803 -119 {[}IBM{]}{[}CLI Driver{]}{[}DB2/LINUXX8664{]} SQL0119N  An expression starting with \"HOUR\" specified in a SELECT clause, HAVING clause, or ORDER BY clause is not specified in the GROUP BY clause or it is in a SELECT clause, HAVING clause, or ORDER BY clause with a column function and no GROUP BY clause is specified.  SQLSTATE=42803\\textbackslash{}n'\n",
       "\\item '{[}RODBC{]} ERROR: Could not SQLExecDirect \\textbackslash{}'SELECT SEASONS, HOUR, AVG(RENTED\\_BIKE\\_COUNT) AS RENTED\\_BIKE\\_COUNT\\_AVERAGE, AVG(TEMPERATURE) AS AVERAGE\\_TEMPERATURE FROM SEOUL\\_BIKE\\_SHARING GROUP BY SEASONS\\textbackslash{}''\n",
       "\\end{enumerate*}\n"
      ],
      "text/markdown": [
       "1. <span style=white-space:pre-wrap>'42803 -119 [IBM][CLI Driver][DB2/LINUXX8664] SQL0119N  An expression starting with \"HOUR\" specified in a SELECT clause, HAVING clause, or ORDER BY clause is not specified in the GROUP BY clause or it is in a SELECT clause, HAVING clause, or ORDER BY clause with a column function and no GROUP BY clause is specified.  SQLSTATE=42803\\n'</span>\n",
       "2. '[RODBC] ERROR: Could not SQLExecDirect \\'SELECT SEASONS, HOUR, AVG(RENTED_BIKE_COUNT) AS RENTED_BIKE_COUNT_AVERAGE, AVG(TEMPERATURE) AS AVERAGE_TEMPERATURE FROM SEOUL_BIKE_SHARING GROUP BY SEASONS\\''\n",
       "\n",
       "\n"
      ],
      "text/plain": [
       "[1] \"42803 -119 [IBM][CLI Driver][DB2/LINUXX8664] SQL0119N  An expression starting with \\\"HOUR\\\" specified in a SELECT clause, HAVING clause, or ORDER BY clause is not specified in the GROUP BY clause or it is in a SELECT clause, HAVING clause, or ORDER BY clause with a column function and no GROUP BY clause is specified.  SQLSTATE=42803\\n\"\n",
       "[2] \"[RODBC] ERROR: Could not SQLExecDirect 'SELECT SEASONS, HOUR, AVG(RENTED_BIKE_COUNT) AS RENTED_BIKE_COUNT_AVERAGE, AVG(TEMPERATURE) AS AVERAGE_TEMPERATURE FROM SEOUL_BIKE_SHARING GROUP BY SEASONS'\"                                                                                                                                            "
      ]
     },
     "metadata": {},
     "output_type": "display_data"
    }
   ],
   "source": [
    "#7 Determine the average hourly temperature and the average number of bike rentals per hour over each season. List the top ten results by average bike count.\n",
    "# sqlQuery(conn, paste(\"SELECT SEASONS, AVG(RENTED_BIKE_COUNT) AS RENTED_BIKE_COUNT_AVERAGE, AVG(TEMPERATURE) AS AVERAGE_TEMPERATURE FROM SEOUL_BIKE_SHARING GROUP BY SEASONS\"))  NOT DONE YET!\n",
    "sqlQuery(conn, paste(\"SELECT SEASONS, HOUR, AVG(RENTED_BIKE_COUNT) AS RENTED_BIKE_COUNT_AVERAGE, AVG(TEMPERATURE) AS AVERAGE_TEMPERATURE FROM SEOUL_BIKE_SHARING GROUP BY SEASONS\"))"
   ]
  },
  {
   "cell_type": "code",
   "execution_count": 13,
   "id": "7ba36943-fe89-4b65-92f1-0a6c140ad1e1",
   "metadata": {},
   "outputs": [
    {
     "data": {
      "text/html": [
       "<table>\n",
       "<caption>A data.frame: 4 × 5</caption>\n",
       "<thead>\n",
       "\t<tr><th></th><th scope=col>SEASONS</th><th scope=col>AVERAGE_HOURLY_BIKE_COUNT</th><th scope=col>MINIMUN_VALUE</th><th scope=col>MAXIMUM_VALUE</th><th scope=col>STANDARD_DEVIATION</th></tr>\n",
       "\t<tr><th></th><th scope=col>&lt;fct&gt;</th><th scope=col>&lt;int&gt;</th><th scope=col>&lt;int&gt;</th><th scope=col>&lt;int&gt;</th><th scope=col>&lt;dbl&gt;</th></tr>\n",
       "</thead>\n",
       "<tbody>\n",
       "\t<tr><th scope=row>1</th><td>Autumn</td><td> 924</td><td>2</td><td>3298</td><td>617.3885</td></tr>\n",
       "\t<tr><th scope=row>2</th><td>Spring</td><td> 746</td><td>2</td><td>3251</td><td>618.5247</td></tr>\n",
       "\t<tr><th scope=row>3</th><td>Summer</td><td>1034</td><td>9</td><td>3556</td><td>690.0884</td></tr>\n",
       "\t<tr><th scope=row>4</th><td>Winter</td><td> 225</td><td>3</td><td> 937</td><td>150.3374</td></tr>\n",
       "</tbody>\n",
       "</table>\n"
      ],
      "text/latex": [
       "A data.frame: 4 × 5\n",
       "\\begin{tabular}{r|lllll}\n",
       "  & SEASONS & AVERAGE\\_HOURLY\\_BIKE\\_COUNT & MINIMUN\\_VALUE & MAXIMUM\\_VALUE & STANDARD\\_DEVIATION\\\\\n",
       "  & <fct> & <int> & <int> & <int> & <dbl>\\\\\n",
       "\\hline\n",
       "\t1 & Autumn &  924 & 2 & 3298 & 617.3885\\\\\n",
       "\t2 & Spring &  746 & 2 & 3251 & 618.5247\\\\\n",
       "\t3 & Summer & 1034 & 9 & 3556 & 690.0884\\\\\n",
       "\t4 & Winter &  225 & 3 &  937 & 150.3374\\\\\n",
       "\\end{tabular}\n"
      ],
      "text/markdown": [
       "\n",
       "A data.frame: 4 × 5\n",
       "\n",
       "| <!--/--> | SEASONS &lt;fct&gt; | AVERAGE_HOURLY_BIKE_COUNT &lt;int&gt; | MINIMUN_VALUE &lt;int&gt; | MAXIMUM_VALUE &lt;int&gt; | STANDARD_DEVIATION &lt;dbl&gt; |\n",
       "|---|---|---|---|---|---|\n",
       "| 1 | Autumn |  924 | 2 | 3298 | 617.3885 |\n",
       "| 2 | Spring |  746 | 2 | 3251 | 618.5247 |\n",
       "| 3 | Summer | 1034 | 9 | 3556 | 690.0884 |\n",
       "| 4 | Winter |  225 | 3 |  937 | 150.3374 |\n",
       "\n"
      ],
      "text/plain": [
       "  SEASONS AVERAGE_HOURLY_BIKE_COUNT MINIMUN_VALUE MAXIMUM_VALUE\n",
       "1 Autumn   924                      2             3298         \n",
       "2 Spring   746                      2             3251         \n",
       "3 Summer  1034                      9             3556         \n",
       "4 Winter   225                      3              937         \n",
       "  STANDARD_DEVIATION\n",
       "1 617.3885          \n",
       "2 618.5247          \n",
       "3 690.0884          \n",
       "4 150.3374          "
      ]
     },
     "metadata": {},
     "output_type": "display_data"
    }
   ],
   "source": [
    "#8 Find the average hourly bike count during each season. Also include the minimum, maximum, and standard deviation of the hourly bike count for each season.\n",
    "sqlQuery(conn, paste(\"SELECT SEASONS, AVG(RENTED_BIKE_COUNT) AS AVERAGE_HOURLY_BIKE_COUNT, MIN(RENTED_BIKE_COUNT) AS MINIMUN_VALUE, MAX(RENTED_BIKE_COUNT) AS MAXIMUM_VALUE, STDDEV(RENTED_BIKE_COUNT) AS STANDARD_DEVIATION FROM SEOUL_BIKE_SHARING GROUP BY SEASONS\"))"
   ]
  },
  {
   "cell_type": "code",
   "execution_count": 14,
   "id": "fc62b882-cffe-4139-a2d6-370ff0928a06",
   "metadata": {},
   "outputs": [
    {
     "data": {
      "text/html": [
       "<table>\n",
       "<caption>A data.frame: 4 × 10</caption>\n",
       "<thead>\n",
       "\t<tr><th></th><th scope=col>SEASONS</th><th scope=col>AVERAGE_BIKE_COUNT</th><th scope=col>AVERAGE_TEMPERATURE</th><th scope=col>AVERAGE_HUMIDITY</th><th scope=col>AVERAGE_WINDSPEED</th><th scope=col>AVERAGE_VISIBILITY</th><th scope=col>AVAERAGE_DEWPOINT_TEMPERATURE</th><th scope=col>AVERAGE_SOLAR_RADIATION</th><th scope=col>AVERAGE_RAINFALL</th><th scope=col>AVERAGE_SNOWFALL</th></tr>\n",
       "\t<tr><th></th><th scope=col>&lt;fct&gt;</th><th scope=col>&lt;int&gt;</th><th scope=col>&lt;dbl&gt;</th><th scope=col>&lt;int&gt;</th><th scope=col>&lt;dbl&gt;</th><th scope=col>&lt;int&gt;</th><th scope=col>&lt;dbl&gt;</th><th scope=col>&lt;dbl&gt;</th><th scope=col>&lt;dbl&gt;</th><th scope=col>&lt;dbl&gt;</th></tr>\n",
       "</thead>\n",
       "<tbody>\n",
       "\t<tr><th scope=row>1</th><td>Winter</td><td> 225</td><td>-2.540463</td><td>49</td><td>1.922685</td><td>1445</td><td>-12.416667</td><td>0.2981806</td><td>0.03282407</td><td>0.24750000</td></tr>\n",
       "\t<tr><th scope=row>2</th><td>Spring</td><td> 746</td><td>13.021389</td><td>58</td><td>1.857778</td><td>1240</td><td>  4.091389</td><td>0.6803009</td><td>0.18694444</td><td>0.00000000</td></tr>\n",
       "\t<tr><th scope=row>3</th><td>Autumn</td><td> 924</td><td>13.821167</td><td>59</td><td>1.492101</td><td>1558</td><td>  5.150594</td><td>0.5227827</td><td>0.11765617</td><td>0.06350026</td></tr>\n",
       "\t<tr><th scope=row>4</th><td>Summer</td><td>1034</td><td>26.587274</td><td>64</td><td>1.609420</td><td>1501</td><td> 18.750136</td><td>0.7612545</td><td>0.25348732</td><td>0.00000000</td></tr>\n",
       "</tbody>\n",
       "</table>\n"
      ],
      "text/latex": [
       "A data.frame: 4 × 10\n",
       "\\begin{tabular}{r|llllllllll}\n",
       "  & SEASONS & AVERAGE\\_BIKE\\_COUNT & AVERAGE\\_TEMPERATURE & AVERAGE\\_HUMIDITY & AVERAGE\\_WINDSPEED & AVERAGE\\_VISIBILITY & AVAERAGE\\_DEWPOINT\\_TEMPERATURE & AVERAGE\\_SOLAR\\_RADIATION & AVERAGE\\_RAINFALL & AVERAGE\\_SNOWFALL\\\\\n",
       "  & <fct> & <int> & <dbl> & <int> & <dbl> & <int> & <dbl> & <dbl> & <dbl> & <dbl>\\\\\n",
       "\\hline\n",
       "\t1 & Winter &  225 & -2.540463 & 49 & 1.922685 & 1445 & -12.416667 & 0.2981806 & 0.03282407 & 0.24750000\\\\\n",
       "\t2 & Spring &  746 & 13.021389 & 58 & 1.857778 & 1240 &   4.091389 & 0.6803009 & 0.18694444 & 0.00000000\\\\\n",
       "\t3 & Autumn &  924 & 13.821167 & 59 & 1.492101 & 1558 &   5.150594 & 0.5227827 & 0.11765617 & 0.06350026\\\\\n",
       "\t4 & Summer & 1034 & 26.587274 & 64 & 1.609420 & 1501 &  18.750136 & 0.7612545 & 0.25348732 & 0.00000000\\\\\n",
       "\\end{tabular}\n"
      ],
      "text/markdown": [
       "\n",
       "A data.frame: 4 × 10\n",
       "\n",
       "| <!--/--> | SEASONS &lt;fct&gt; | AVERAGE_BIKE_COUNT &lt;int&gt; | AVERAGE_TEMPERATURE &lt;dbl&gt; | AVERAGE_HUMIDITY &lt;int&gt; | AVERAGE_WINDSPEED &lt;dbl&gt; | AVERAGE_VISIBILITY &lt;int&gt; | AVAERAGE_DEWPOINT_TEMPERATURE &lt;dbl&gt; | AVERAGE_SOLAR_RADIATION &lt;dbl&gt; | AVERAGE_RAINFALL &lt;dbl&gt; | AVERAGE_SNOWFALL &lt;dbl&gt; |\n",
       "|---|---|---|---|---|---|---|---|---|---|---|\n",
       "| 1 | Winter |  225 | -2.540463 | 49 | 1.922685 | 1445 | -12.416667 | 0.2981806 | 0.03282407 | 0.24750000 |\n",
       "| 2 | Spring |  746 | 13.021389 | 58 | 1.857778 | 1240 |   4.091389 | 0.6803009 | 0.18694444 | 0.00000000 |\n",
       "| 3 | Autumn |  924 | 13.821167 | 59 | 1.492101 | 1558 |   5.150594 | 0.5227827 | 0.11765617 | 0.06350026 |\n",
       "| 4 | Summer | 1034 | 26.587274 | 64 | 1.609420 | 1501 |  18.750136 | 0.7612545 | 0.25348732 | 0.00000000 |\n",
       "\n"
      ],
      "text/plain": [
       "  SEASONS AVERAGE_BIKE_COUNT AVERAGE_TEMPERATURE AVERAGE_HUMIDITY\n",
       "1 Winter   225               -2.540463           49              \n",
       "2 Spring   746               13.021389           58              \n",
       "3 Autumn   924               13.821167           59              \n",
       "4 Summer  1034               26.587274           64              \n",
       "  AVERAGE_WINDSPEED AVERAGE_VISIBILITY AVAERAGE_DEWPOINT_TEMPERATURE\n",
       "1 1.922685          1445               -12.416667                   \n",
       "2 1.857778          1240                 4.091389                   \n",
       "3 1.492101          1558                 5.150594                   \n",
       "4 1.609420          1501                18.750136                   \n",
       "  AVERAGE_SOLAR_RADIATION AVERAGE_RAINFALL AVERAGE_SNOWFALL\n",
       "1 0.2981806               0.03282407       0.24750000      \n",
       "2 0.6803009               0.18694444       0.00000000      \n",
       "3 0.5227827               0.11765617       0.06350026      \n",
       "4 0.7612545               0.25348732       0.00000000      "
      ]
     },
     "metadata": {},
     "output_type": "display_data"
    }
   ],
   "source": [
    "#9 Consider the weather over each season. On average, what were the TEMPERATURE, HUMIDITY, WIND_SPEED, VISIBILITY, DEW_POINT_TEMPERATURE, SOLAR_RADIATION, RAINFALL, and SNOWFALL per season? # Include the average bike count as well , and rank the results by average bike count so you can see if it is correlated with the weather at all.\n",
    "sqlQuery(conn, paste(\"SELECT SEASONS, AVG(RENTED_BIKE_COUNT) AS AVERAGE_BIKE_COUNT, AVG(TEMPERATURE) AS AVERAGE_TEMPERATURE, AVG(HUMIDITY) AS AVERAGE_HUMIDITY, AVG(WIND_SPEED) AS AVERAGE_WINDSPEED, AVG(VISIBILITY) AS AVERAGE_VISIBILITY, AVG(DEW_POINT_TEMPERATURE) AS AVAERAGE_DEWPOINT_TEMPERATURE, AVG(SOLAR_RADIATION) AS AVERAGE_SOLAR_RADIATION, AVG(RAINFALL) AS AVERAGE_RAINFALL, AVG(SNOWFALL) AS AVERAGE_SNOWFALL FROM SEOUL_BIKE_SHARING GROUP BY SEASONS ORDER BY AVERAGE_BIKE_COUNT\"))\n"
   ]
  },
  {
   "cell_type": "code",
   "execution_count": 15,
   "id": "3f279994-bf2b-4c1f-aba5-e4b3b85daabc",
   "metadata": {},
   "outputs": [
    {
     "data": {
      "text/html": [
       "<table>\n",
       "<caption>A data.frame: 1 × 6</caption>\n",
       "<thead>\n",
       "\t<tr><th></th><th scope=col>CITY</th><th scope=col>COUNTRY</th><th scope=col>LAT</th><th scope=col>LNG</th><th scope=col>POPULATION</th><th scope=col>BICYCLES</th></tr>\n",
       "\t<tr><th></th><th scope=col>&lt;fct&gt;</th><th scope=col>&lt;fct&gt;</th><th scope=col>&lt;dbl&gt;</th><th scope=col>&lt;dbl&gt;</th><th scope=col>&lt;int&gt;</th><th scope=col>&lt;int&gt;</th></tr>\n",
       "</thead>\n",
       "<tbody>\n",
       "\t<tr><th scope=row>1</th><td>Seoul</td><td>Korea, South</td><td>37.58</td><td>127</td><td>21794000</td><td>20000</td></tr>\n",
       "</tbody>\n",
       "</table>\n"
      ],
      "text/latex": [
       "A data.frame: 1 × 6\n",
       "\\begin{tabular}{r|llllll}\n",
       "  & CITY & COUNTRY & LAT & LNG & POPULATION & BICYCLES\\\\\n",
       "  & <fct> & <fct> & <dbl> & <dbl> & <int> & <int>\\\\\n",
       "\\hline\n",
       "\t1 & Seoul & Korea, South & 37.58 & 127 & 21794000 & 20000\\\\\n",
       "\\end{tabular}\n"
      ],
      "text/markdown": [
       "\n",
       "A data.frame: 1 × 6\n",
       "\n",
       "| <!--/--> | CITY &lt;fct&gt; | COUNTRY &lt;fct&gt; | LAT &lt;dbl&gt; | LNG &lt;dbl&gt; | POPULATION &lt;int&gt; | BICYCLES &lt;int&gt; |\n",
       "|---|---|---|---|---|---|---|\n",
       "| 1 | Seoul | Korea, South | 37.58 | 127 | 21794000 | 20000 |\n",
       "\n"
      ],
      "text/plain": [
       "  CITY  COUNTRY      LAT   LNG POPULATION BICYCLES\n",
       "1 Seoul Korea, South 37.58 127 21794000   20000   "
      ]
     },
     "metadata": {},
     "output_type": "display_data"
    }
   ],
   "source": [
    "#10 Use an implicit join across the WORLD_CITIES and the BIKE_SHARING_SYSTEMS tables to determine the total number of bikes avaialble in Seoul, plus the following city information about Seoul: CITY, COUNTRY, LAT, LON, POPULATION, in a single view. Notice that in this case, the CITY column will work for the WORLD_CITIES table, but in general you would have to use the CITY_ASCII column.\n",
    "sqlQuery(conn, paste(\"SELECT WORLD_CITIES.CITY, WORLD_CITIES.COUNTRY, LAT, LNG, POPULATION, BICYCLES FROM WORLD_CITIES, BIKE_SHARING_SYSTEMS WHERE WORLD_CITIES.CITY = BIKE_SHARING_SYSTEMS.CITY AND WORLD_CITIES.CITY = 'Seoul'\"))\n"
   ]
  },
  {
   "cell_type": "code",
   "execution_count": 16,
   "id": "82227618-b46c-4f95-87fc-7f315eb480f2",
   "metadata": {},
   "outputs": [
    {
     "data": {
      "text/html": [
       "<table>\n",
       "<caption>A data.frame: 0 × 6</caption>\n",
       "<thead>\n",
       "\t<tr><th scope=col>CITY</th><th scope=col>COUNTRY</th><th scope=col>LAT</th><th scope=col>LNG</th><th scope=col>POPULATION</th><th scope=col>BICYCLES</th></tr>\n",
       "\t<tr><th scope=col>&lt;chr&gt;</th><th scope=col>&lt;chr&gt;</th><th scope=col>&lt;chr&gt;</th><th scope=col>&lt;chr&gt;</th><th scope=col>&lt;chr&gt;</th><th scope=col>&lt;chr&gt;</th></tr>\n",
       "</thead>\n",
       "<tbody>\n",
       "</tbody>\n",
       "</table>\n"
      ],
      "text/latex": [
       "A data.frame: 0 × 6\n",
       "\\begin{tabular}{llllll}\n",
       " CITY & COUNTRY & LAT & LNG & POPULATION & BICYCLES\\\\\n",
       " <chr> & <chr> & <chr> & <chr> & <chr> & <chr>\\\\\n",
       "\\hline\n",
       "\\end{tabular}\n"
      ],
      "text/markdown": [
       "\n",
       "A data.frame: 0 × 6\n",
       "\n",
       "| CITY &lt;chr&gt; | COUNTRY &lt;chr&gt; | LAT &lt;chr&gt; | LNG &lt;chr&gt; | POPULATION &lt;chr&gt; | BICYCLES &lt;chr&gt; |\n",
       "|---|---|---|---|---|---|\n",
       "\n"
      ],
      "text/plain": [
       "     CITY COUNTRY LAT LNG POPULATION BICYCLES"
      ]
     },
     "metadata": {},
     "output_type": "display_data"
    }
   ],
   "source": [
    "#11 Find all cities with total bike counts between 15000 and 20000. Return the city and country names, plus the coordinates (LAT, LNG), population, and number of bicycles for each city.\n",
    "sqlQuery(conn, paste(\"SELECT WORLD_CITIES.CITY, WORLD_CITIES.COUNTRY,LAT, LNG, POPULATION, BICYCLES FROM WORLD_CITIES, BIKE_SHARING_SYSTEMS WHERE WORLD_CITIES.CITY = BIKE_SHARING_SYSTEMS.CITY AND WORLD_CITIES.COUNTRY = BIKE_SHARING_SYSTEMS.COUNTRY AND BICYCLES BETWEEN 15000 AND 20000\"))\n",
    "\n",
    "\n",
    "\n"
   ]
  },
  {
   "cell_type": "code",
   "execution_count": null,
   "id": "067c6ba8-858c-47a9-9c71-d58bbe9ee45f",
   "metadata": {},
   "outputs": [],
   "source": []
  },
  {
   "cell_type": "code",
   "execution_count": null,
   "id": "bb168279-7d9a-466f-adea-5acbc0fa7d76",
   "metadata": {},
   "outputs": [],
   "source": []
  },
  {
   "cell_type": "code",
   "execution_count": null,
   "id": "145973cb-93da-4bed-879d-4e4cf3e5e6cb",
   "metadata": {},
   "outputs": [],
   "source": []
  }
 ],
 "metadata": {
  "kernelspec": {
   "display_name": "R",
   "language": "R",
   "name": "conda-env-r-r"
  },
  "language_info": {
   "codemirror_mode": "r",
   "file_extension": ".r",
   "mimetype": "text/x-r-source",
   "name": "R",
   "pygments_lexer": "r",
   "version": "3.5.1"
  }
 },
 "nbformat": 4,
 "nbformat_minor": 5
}
